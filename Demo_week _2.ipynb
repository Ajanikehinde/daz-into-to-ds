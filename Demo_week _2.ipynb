{
 "cells": [
  {
   "cell_type": "code",
   "execution_count": null,
   "id": "f49b191b",
   "metadata": {},
   "outputs": [
    {
     "name": "stdout",
     "output_type": "stream",
     "text": [
      "my_name is Kehinde Azeez Ajani, 'I live in city' London, 'and my hobbies is ['Football', 'Reading', 'Sport']' \n"
     ]
    }
   ],
   "source": [
    "my_name = 'Kehinde Azeez Ajani'\n",
    "city = 'London'\n",
    "hobbies = ['Football', 'Reading', 'Sport']\n",
    "\n",
    "print(f\"my_name is {my_name}, 'I live in city' {city}, 'and my hobbies is {hobbies}' \")"
   ]
  },
  {
   "cell_type": "code",
   "execution_count": null,
   "id": "4a1ee0f7",
   "metadata": {},
   "outputs": [],
   "source": []
  },
  {
   "cell_type": "code",
   "execution_count": null,
   "id": "edefb943",
   "metadata": {},
   "outputs": [],
   "source": []
  }
 ],
 "metadata": {
  "kernelspec": {
   "display_name": "daz-venv",
   "language": "python",
   "name": "python3"
  },
  "language_info": {
   "codemirror_mode": {
    "name": "ipython",
    "version": 3
   },
   "file_extension": ".py",
   "mimetype": "text/x-python",
   "name": "python",
   "nbconvert_exporter": "python",
   "pygments_lexer": "ipython3",
   "version": "3.13.5"
  }
 },
 "nbformat": 4,
 "nbformat_minor": 5
}
